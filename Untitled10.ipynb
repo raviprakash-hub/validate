{
 "cells": [
  {
   "cell_type": "code",
   "execution_count": 10,
   "id": "d129f4e0",
   "metadata": {},
   "outputs": [
    {
     "name": "stdout",
     "output_type": "stream",
     "text": [
      "3 4 5\n",
      "2 4 2 4\n",
      "Valid Triangle\n",
      "Valid Rectangle\n"
     ]
    }
   ],
   "source": [
    "def validate_triangle(x,y,z):\n",
    "    if x+y>z or y+z>x or z+x>y:\n",
    "        return 'Valid Triangle'\n",
    "    else:\n",
    "        return 'Invalid Triangle'\n",
    "            \n",
    "def validate_rectangle(a,b,c,d):\n",
    "    if a==c and b==d:\n",
    "        return 'Valid Rectangle'\n",
    "    else:\n",
    "        return 'Invalid Rectangle'\n",
    "input_triangle=list(map(int,input().split()))\n",
    "input_rectangle=list(map(int,input().split()))\n",
    "\n",
    "print(validate_triangle(*input_triangle))\n",
    "print(validate_rectangle(*input_rectangle))\n",
    "\n",
    "        \n",
    "        \n",
    "        "
   ]
  },
  {
   "cell_type": "code",
   "execution_count": null,
   "id": "3dcdae9d",
   "metadata": {},
   "outputs": [],
   "source": []
  }
 ],
 "metadata": {
  "kernelspec": {
   "display_name": "Python 3",
   "language": "python",
   "name": "python3"
  },
  "language_info": {
   "codemirror_mode": {
    "name": "ipython",
    "version": 3
   },
   "file_extension": ".py",
   "mimetype": "text/x-python",
   "name": "python",
   "nbconvert_exporter": "python",
   "pygments_lexer": "ipython3",
   "version": "3.9.4"
  }
 },
 "nbformat": 4,
 "nbformat_minor": 5
}
